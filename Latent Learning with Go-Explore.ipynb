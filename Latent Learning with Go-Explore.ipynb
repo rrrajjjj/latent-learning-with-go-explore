{
 "cells": [
  {
   "cell_type": "code",
   "execution_count": 1,
   "id": "c86497fb",
   "metadata": {},
   "outputs": [],
   "source": [
    "# import libraries \n",
    "\n",
    "# the usual suspects\n",
    "import numpy as np\n",
    "import pandas as pd\n",
    "import os\n",
    "import copy\n",
    "import warnings\n",
    "warnings.filterwarnings('ignore')\n",
    "\n",
    "\n",
    "# plotting\n",
    "import matplotlib.pyplot as plt\n",
    "import matplotlib.animation as animation\n",
    "import matplotlib.image as mpimg\n",
    "from scipy.signal import savgol_filter\n",
    "\n",
    "# mazelab\n",
    "from mazelab import BaseMaze, Object, BaseEnv, VonNeumannMotion\n",
    "from mazelab import DeepMindColor as color\n",
    "\n",
    "# gym\n",
    "import gym\n",
    "from gym.spaces import Box\n",
    "from gym.spaces import Discrete\n",
    "\n",
    "\n"
   ]
  },
  {
   "cell_type": "markdown",
   "id": "5ea0ae3d",
   "metadata": {},
   "source": [
    "## Create the Environment - Tolman's Maze \n",
    "\n",
    "The maze has been adapted from the following paper by Edward Tolman \n",
    "\n",
    "> Tolman, Edward C. \"Cognitive maps in rats and men.\" Psychological review 55.4 (1948): 189.\n",
    "\n",
    "This implementation of the maze is a full-fledged environment compatible with open-AI gym and by extension a plethora of open source RL libraries. It is created using mazelab - https://github.com/zuoxingdong/mazelab.git\n",
    "\n",
    "There were some issues with image rendering that I had to fix. The fixed version of the library can be found on my fork - https://github.com/rrrajjjj/mazelab.git"
   ]
  },
  {
   "cell_type": "markdown",
   "id": "3e5cf6b4",
   "metadata": {},
   "source": [
    "<img src=\"tolman_maze.png\" width=400 height=400/>\n"
   ]
  },
  {
   "cell_type": "code",
   "execution_count": 2,
   "id": "cf8cbca8",
   "metadata": {},
   "outputs": [],
   "source": [
    "# load the maze array\n",
    "with open(\"tolman_maze.npy\", \"rb\") as f:\n",
    "    x = np.load(f)\n",
    "    \n",
    "# define start and goal states\n",
    "start_idx = [[13, 2]]\n",
    "goal_idx = [[13, 11]]\n",
    "\n",
    "# environment ID to register the environment with gym\n",
    "env_id = \"TolmanMaze-v0\""
   ]
  },
  {
   "cell_type": "markdown",
   "id": "9892fafa",
   "metadata": {},
   "source": [
    "### Make Environment"
   ]
  },
  {
   "cell_type": "code",
   "execution_count": 3,
   "id": "c15d1cc3",
   "metadata": {},
   "outputs": [],
   "source": [
    "class Maze(BaseMaze):\n",
    "    @property\n",
    "    def size(self):\n",
    "        return x.shape\n",
    "    \n",
    "    def make_objects(self):\n",
    "        free = Object('free', 0, color.free, False, np.stack(np.where(x == 0), axis=1))\n",
    "        obstacle = Object('obstacle', 1, color.obstacle, True, np.stack(np.where(x == 1), axis=1))\n",
    "        agent = Object('agent', 2, color.agent, False, [])\n",
    "        goal = Object('goal', 3, color.goal, False, [])\n",
    "        return free, obstacle, agent, goal\n",
    "    \n",
    "class Env(BaseEnv):\n",
    "    def __init__(self, reward = 1):\n",
    "        super().__init__()\n",
    "        \n",
    "        self.maze = Maze()\n",
    "        self.motions = VonNeumannMotion()\n",
    "        \n",
    "        self.observation_space = Box(low=0, high=len(self.maze.objects), shape=self.maze.size, dtype=np.uint8)\n",
    "        self.action_space = Discrete(len(self.motions))\n",
    "        self.reward = reward\n",
    "        self.final_reward = 0\n",
    "        \n",
    "    def step(self, action):\n",
    "        motion = self.motions[action]\n",
    "        current_position = self.maze.objects.agent.positions[0]\n",
    "        new_position = [current_position[0] + motion[0], current_position[1] + motion[1]]\n",
    "        valid = self._is_valid(new_position)\n",
    "        if valid:\n",
    "            self.maze.objects.agent.positions = [new_position]\n",
    "        \n",
    "        if self._is_goal(new_position):\n",
    "            reward = self.reward\n",
    "            done = True\n",
    "        elif not valid:\n",
    "            reward = -1\n",
    "            done = False\n",
    "        else:\n",
    "            reward = 0\n",
    "            done = False\n",
    "        self.final_reward += reward\n",
    "        return self.maze.to_value(), reward, done, {}\n",
    "        \n",
    "    def reset(self):\n",
    "        self.maze.objects.agent.positions = start_idx\n",
    "        self.maze.objects.goal.positions = goal_idx\n",
    "        return self.maze.to_value()\n",
    "    \n",
    "    def _is_valid(self, position):\n",
    "        nonnegative = position[0] >= 0 and position[1] >= 0\n",
    "        within_edge = position[0] < self.maze.size[0] and position[1] < self.maze.size[1]\n",
    "        if (nonnegative and within_edge):\n",
    "            passable = not self.maze.to_impassable()[position[0]][position[1]]\n",
    "        else:\n",
    "            return False\n",
    "        \n",
    "        return nonnegative and within_edge and passable\n",
    "    \n",
    "    def _is_goal(self, position):\n",
    "        out = False\n",
    "        for pos in self.maze.objects.goal.positions:\n",
    "            if position[0] == pos[0] and position[1] == pos[1]:\n",
    "                out = True\n",
    "                break\n",
    "        return out\n",
    "    \n",
    "    def get_image(self):\n",
    "        return self.maze.to_rgb()\n",
    "    \n",
    "        "
   ]
  },
  {
   "cell_type": "code",
   "execution_count": 4,
   "id": "486e69ba",
   "metadata": {},
   "outputs": [],
   "source": [
    "# register the environment with gym\n",
    "gym.envs.register(id=env_id, entry_point=Env, max_episode_steps=200)\n"
   ]
  },
  {
   "cell_type": "code",
   "execution_count": 5,
   "id": "dc444151",
   "metadata": {
    "scrolled": false
   },
   "outputs": [
    {
     "data": {
      "image/png": "[encoded data removed]",
      "text/plain": [
       "<Figure size 864x432 with 2 Axes>"
      ]
     },
     "metadata": {},
     "output_type": "display_data"
    }
   ],
   "source": [
    "# let's take a look at our maze \n",
    "env = gym.make(env_id)\n",
    "env.reset()\n",
    "img = env.render(\"rgb_array\")\n",
    "plt.figure(figsize = (12, 6))\n",
    "plt.subplot(1, 2, 1)\n",
    "plt.imshow(img)\n",
    "plt.xticks([])\n",
    "plt.yticks([])\n",
    "plt.text(65, 525,  \"Start\", fontsize=15)\n",
    "plt.text(392, 525,  \"End\", fontsize=15)\n",
    "plt.subplot(1, 2, 2)\n",
    "plt.imshow(plt.imread(\"tolman_maze.png\"))\n",
    "plt.xticks([])\n",
    "plt.yticks([])\n",
    "\n",
    "plt.show()"
   ]
  },
  {
   "cell_type": "markdown",
   "id": "c4ea9fed",
   "metadata": {},
   "source": [
    "## Testing the Environment with Stable Baselines"
   ]
  },
  {
   "cell_type": "markdown",
   "id": "3154c484",
   "metadata": {},
   "source": [
    "### Some housekeeping functions"
   ]
  },
  {
   "cell_type": "code",
   "execution_count": 6,
   "id": "1b344670",
   "metadata": {},
   "outputs": [],
   "source": [
    "# function to run an episode \n",
    "def run_episode(bRender=False, model=None):\n",
    "    done = False\n",
    "    obs = env.reset()\n",
    "    sum_reward = 0\n",
    "    while not done:\n",
    "        if model == None:\n",
    "            action = env.action_space.sample()\n",
    "        else:\n",
    "            action, _ = model.predict(obs, deterministic=True)\n",
    "            \n",
    "        obs, rew, done, _ = env.step(action)\n",
    "        sum_reward += rew\n",
    "        if bRender:\n",
    "            env.render(\"rgb_array\")\n",
    "        #print(\"obs\",obs,\"rew\",rew, \"done\", done)\n",
    "    print(\"Episode ended sum_reward =\",sum_reward)\n",
    "    return rew\n"
   ]
  },
  {
   "cell_type": "code",
   "execution_count": 7,
   "id": "4cfefc0b",
   "metadata": {},
   "outputs": [],
   "source": [
    "# function to make a video for an episode given a model \n",
    "def make_video(env, model, filename, fps = 6, n_steps = 100):\n",
    "    \"\"\"\n",
    "    Filename has to be with a .gif extension. \n",
    "    Filename format - Model_TrainingTrials.gif\n",
    "    Example - PPO_1000.gif (Episode run with a PPO model trained for 1000 iterations)\n",
    "    \"\"\"\n",
    "    model_name = filename.split(\"/\")[-2]\n",
    "    obs = env.reset()\n",
    "    fig, ax = plt.subplots(figsize=(6,6))\n",
    "    plt.axis('off')\n",
    "    frames = []\n",
    "    tot_reward = 0\n",
    "    \n",
    "    for step in range(n_steps):\n",
    "        action, _ = model.predict(obs, deterministic=False)\n",
    "        obs, reward, done, info = env.step(action)\n",
    "        tot_reward += reward\n",
    "        frames.append([ax.imshow(env.render(mode='rgb_array'), animated=True)])\n",
    "        if done:\n",
    "            break\n",
    "    fig.subplots_adjust(left=0, bottom=0, right=1, top=1, wspace=None, hspace=None) #to remove white bounding box \n",
    "    anim = animation.ArtistAnimation(fig, frames, interval=int(1000/fps), blit=True,repeat_delay=1000)\n",
    "    \n",
    "    if not os.path.isdir(f\"videos/{model_name}\"):\n",
    "        os.makedirs(f\"videos/{model_name}\")\n",
    "    anim.save(filename,dpi=150)\n",
    "    plt.close()\n"
   ]
  },
  {
   "cell_type": "markdown",
   "id": "22f71c6d",
   "metadata": {},
   "source": [
    "### Training a model and generating videos for results"
   ]
  },
  {
   "cell_type": "code",
   "execution_count": 8,
   "id": "4288a4b3",
   "metadata": {},
   "outputs": [
    {
     "name": "stdout",
     "output_type": "stream",
     "text": [
      "\n"
     ]
    }
   ],
   "source": [
    "%%capture                                       \n",
    "# training a PPO model\n",
    "from stable_baselines3 import PPO\n",
    "model = PPO(\"MlpPolicy\", env, verbose=0)\n",
    "for iteration in range(1, 6):\n",
    "    # train for 5000 iterations\n",
    "    model.learn(total_timesteps=5000)\n",
    "    make_video(env, model, filename = f\"videos/PPO/{iteration*5000}.gif\")\n",
    "env.close()\n"
   ]
  },
  {
   "cell_type": "markdown",
   "id": "67c58383",
   "metadata": {},
   "source": [
    "### After 5000 iterations of training $~~~~~~~~~~~~~~~~~~~~~~~~~~~~~~~~~~~~~$  After 25000 iterations of training\n",
    "\n",
    "<img src=\"videos/PPO/5000.gif\" width=\"250\" align=\"left\">\n",
    "<img src=\"videos/PPO/25000.gif\" width=\"250\" align=\"centre\">\n"
   ]
  },
  {
   "cell_type": "markdown",
   "id": "17d625b8",
   "metadata": {},
   "source": [
    "### Yayy!🥳 The environment seems to be working!"
   ]
  },
  {
   "cell_type": "markdown",
   "id": "2ce92eab",
   "metadata": {},
   "source": [
    "# Go-Explore"
   ]
  },
  {
   "cell_type": "code",
   "execution_count": 9,
   "id": "421f92a8",
   "metadata": {},
   "outputs": [],
   "source": [
    "alpha = 0.01\n",
    "eps = 0.0001\n",
    "weights = {\"times_seen\":1, \"times_chosen\":1, \"value\":10}"
   ]
  },
  {
   "cell_type": "code",
   "execution_count": 10,
   "id": "cf127d75",
   "metadata": {},
   "outputs": [],
   "source": [
    "# state related helper functions \n",
    "def state_id(idx):\n",
    "    # each state is indexed by a unique integer \n",
    "    return idx[0]*14 + idx[1]\n",
    "\n",
    "def state_score(state_id, archive):\n",
    "    state = archive[state_id]\n",
    "    score = weights[\"times_seen\"]/(state[\"times_seen\"]+eps) +\\\n",
    "            weights[\"times_chosen\"]/(state[\"times_chosen\"]+eps) +\\\n",
    "            weights[\"value\"]*state[\"value\"]\n",
    "    return score\n",
    "\n",
    "def choose_goal(archive):\n",
    "    states = [s for s in archive.keys()]\n",
    "    scores = np.array([state_score(state, archive) for state in states])\n",
    "    probs = scores / scores.sum()\n",
    "    goal = np.random.choice(states, p = probs)\n",
    "    return goal\n",
    "\n",
    "def archive_state(archive, state, reward, trajectory):\n",
    "    if state not in archive:\n",
    "        # add state to archive\n",
    "        archive[state] = {\"times_seen\":1, \"times_chosen\":0, \"value\":alpha*reward, \"trajectory\":trajectory.copy()}\n",
    "    else:\n",
    "        # update times seen\n",
    "        archive[state][\"times_seen\"]+=1\n",
    "        # update value\n",
    "        error = reward - archive[state][\"value\"] \n",
    "        archive[state][\"value\"] += error*alpha\n",
    "        # update trajectory\n",
    "        if len(archive[state][\"trajectory\"]) >= len(trajectory):\n",
    "            archive[state][\"trajectory\"] = trajectory.copy()\n",
    "    return archive  "
   ]
  },
  {
   "cell_type": "code",
   "execution_count": 11,
   "id": "fdfe676e",
   "metadata": {},
   "outputs": [],
   "source": [
    "def exploration_episode(archive):\n",
    "    episode_length = 0\n",
    "    # reset environment\n",
    "    env.reset()\n",
    "    done = False\n",
    "    current_state = state_id(env.maze.objects.agent.positions[0])\n",
    "    # choose a goal state from the archive \n",
    "    goal = choose_goal(archive)\n",
    "    archive[goal][\"times_chosen\"] += 1\n",
    "    goal_trajectory = archive[goal][\"trajectory\"].copy()\n",
    "    new_trajectory = []\n",
    "    \n",
    "    if np.random.random() < 0.95:\n",
    "        # return to that state by following the trajectory (90% of the times)\n",
    "        while (goal_trajectory and not done):\n",
    "            action = goal_trajectory.pop(0) \n",
    "            # execute action\n",
    "            _, _, done, _ = env.step(action)\n",
    "            # reward only if done\n",
    "            reward = R*done\n",
    "            # update current state and put into archive \n",
    "            next_state = state_id(env.maze.objects.agent.positions[0])\n",
    "            if next_state != current_state:\n",
    "                # update new trajectory\n",
    "                new_trajectory.append(action) \n",
    "                # update archive\n",
    "                archive = archive_state(archive, next_state, reward, new_trajectory)\n",
    "                # update the next_state\n",
    "                current_state = next_state\n",
    "                # update episode length\n",
    "                episode_length+=1\n",
    "    \n",
    "    if not done:\n",
    "        # explore for 100 steps \n",
    "        for i in range(100):\n",
    "            action = env.action_space.sample()\n",
    "            # execute action\n",
    "            _, _, done, _ = env.step(action)\n",
    "            # reward only if done\n",
    "            reward = R*done\n",
    "            # update current state and put into archive \n",
    "            next_state = state_id(env.maze.objects.agent.positions[0])\n",
    "            if next_state != current_state:\n",
    "                # update new trajectory\n",
    "                new_trajectory.append(action) \n",
    "                # update archive \n",
    "                archive = archive_state(archive, next_state, reward, new_trajectory)\n",
    "                # update the current state\n",
    "                current_state = next_state\n",
    "                # update episode length\n",
    "                episode_length+=1\n",
    "                \n",
    "    return archive, episode_length\n"
   ]
  },
  {
   "cell_type": "markdown",
   "id": "655ac85a",
   "metadata": {},
   "source": [
    "# The Tolman Experiment"
   ]
  },
  {
   "cell_type": "markdown",
   "id": "49951189",
   "metadata": {},
   "source": [
    "## Group-1: Rewarded in all trials"
   ]
  },
  {
   "cell_type": "code",
   "execution_count": 12,
   "id": "112fd029",
   "metadata": {},
   "outputs": [],
   "source": [
    "# initialise archive \n",
    "archive = {}\n",
    "\n",
    "# add initial state to the archive \n",
    "env.reset()\n",
    "current_state = state_id(env.maze.objects.agent.positions[0])\n",
    "archive[current_state] = {\"times_seen\":1, \"times_chosen\":0, \"value\":0, \"trajectory\":[]}\n",
    "\n"
   ]
  },
  {
   "cell_type": "code",
   "execution_count": 13,
   "id": "e6d16f23",
   "metadata": {},
   "outputs": [],
   "source": [
    "# Reward throughout \n",
    "R = 1\n",
    "# initialise log\n",
    "group1_log = []\n",
    "\n",
    "# run trials\n",
    "for i in range(5000):\n",
    "    archive, episode_length = exploration_episode(archive)\n",
    "    group1_log.append(episode_length)\n"
   ]
  },
  {
   "cell_type": "markdown",
   "id": "6eac762e",
   "metadata": {},
   "source": [
    "## Group-2: Reward introduced mid-way"
   ]
  },
  {
   "cell_type": "code",
   "execution_count": 14,
   "id": "b0f35667",
   "metadata": {},
   "outputs": [],
   "source": [
    "# initialise archive \n",
    "archive = {}\n",
    "\n",
    "# add initial state to the archive \n",
    "env.reset()\n",
    "current_state = state_id(env.maze.objects.agent.positions[0])\n",
    "archive[current_state] = {\"times_seen\":1, \"times_chosen\":0, \"value\":0, \"trajectory\":[]}\n"
   ]
  },
  {
   "cell_type": "code",
   "execution_count": 15,
   "id": "2ce50047",
   "metadata": {},
   "outputs": [],
   "source": [
    "# set reward in the environment to 0\n",
    "R = 0\n",
    "# initialise log\n",
    "group2_log = []\n",
    "\n",
    "# run half the trials \n",
    "for i in range(2500):\n",
    "    archive, episode_length = exploration_episode(archive)\n",
    "    group2_log.append(episode_length)\n",
    "\n",
    "# reintroduce the reward\n",
    "R = 1\n",
    "\n",
    "# run the rest of the trials\n",
    "for i in range(2500):\n",
    "    archive, episode_length = exploration_episode(archive)\n",
    "    group2_log.append(episode_length)\n"
   ]
  },
  {
   "cell_type": "markdown",
   "id": "ca0fcd02",
   "metadata": {},
   "source": [
    "## Group-3: No Rewards"
   ]
  },
  {
   "cell_type": "code",
   "execution_count": 16,
   "id": "666b6525",
   "metadata": {},
   "outputs": [],
   "source": [
    "# initialise archive \n",
    "archive = {}\n",
    "\n",
    "# add initial state to the archive \n",
    "env.reset()\n",
    "current_state = state_id(env.maze.objects.agent.positions[0])\n",
    "archive[current_state] = {\"times_seen\":1, \"times_chosen\":0, \"value\":0, \"trajectory\":[]}\n"
   ]
  },
  {
   "cell_type": "code",
   "execution_count": 17,
   "id": "dbbb30e9",
   "metadata": {},
   "outputs": [],
   "source": [
    "# set reward in the environment to 0\n",
    "R = 0\n",
    "\n",
    "# run the trials \n",
    "group3_log = []\n",
    "for i in range(5000):\n",
    "    archive, episode_length = exploration_episode(archive)\n",
    "    group3_log.append(episode_length)\n"
   ]
  },
  {
   "cell_type": "markdown",
   "id": "14a06856",
   "metadata": {},
   "source": [
    "## Moment of Truth - Did this work as expected?"
   ]
  },
  {
   "cell_type": "code",
   "execution_count": 24,
   "id": "019b0b07",
   "metadata": {},
   "outputs": [
    {
     "data": {
      "image/png": "[encoded data removed]",
      "text/plain": [
       "<Figure size 648x432 with 1 Axes>"
      ]
     },
     "metadata": {
      "needs_background": "light"
     },
     "output_type": "display_data"
    }
   ],
   "source": [
    "plt.figure(figsize=(9, 6))\n",
    "plt.plot(savgol_filter(group1_log, 501, 1), label=\"Regularly rewarded\")\n",
    "plt.plot(savgol_filter(group2_log, 501, 1), label=\"Rewards introduced midway\")\n",
    "plt.plot(savgol_filter(group3_log, 501, 1), label=\"Not rewarded\")\n",
    "plt.ylabel(\"Episode Length\")\n",
    "plt.xlabel(\"Number of Trials\")\n",
    "plt.legend()\n",
    "plt.show()"
   ]
  },
  {
   "cell_type": "markdown",
   "id": "a3e40b88",
   "metadata": {},
   "source": [
    "## How cool is that ?!!\n",
    "\n",
    "### Cool enough to warrant an answer to a rhetorical question!"
   ]
  }
 ],
 "metadata": {
  "kernelspec": {
   "display_name": "Python 3 (ipykernel)",
   "language": "python",
   "name": "python3"
  },
  "language_info": {
   "codemirror_mode": {
    "name": "ipython",
    "version": 3
   },
   "file_extension": ".py",
   "mimetype": "text/x-python",
   "name": "python",
   "nbconvert_exporter": "python",
   "pygments_lexer": "ipython3",
   "version": "3.7.13"
  }
 },
 "nbformat": 4,
 "nbformat_minor": 5
}
